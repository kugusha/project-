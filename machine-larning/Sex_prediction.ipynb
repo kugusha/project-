{
 "cells": [
  {
   "cell_type": "code",
   "execution_count": 10,
   "metadata": {
    "collapsed": true
   },
   "outputs": [],
   "source": [
    "from pymongo import MongoClient\n",
    "from data_f import *\n",
    "import numpy as np\n",
    "import pandas as pd\n",
    "import scipy.stats as stats\n",
    "import matplotlib.pyplot as plt\n",
    "import sklearn\n",
    "import matplotlib\n",
    "from plot_data import *\n",
    "\n",
    "\n",
    "%matplotlib inline"
   ]
  },
  {
   "cell_type": "code",
   "execution_count": 11,
   "metadata": {
    "collapsed": true
   },
   "outputs": [],
   "source": [
    "first_name = first_name()\n",
    "last_name = last_name()\n",
    "usernames = username()\n",
    "sex = sex()\n",
    "age = age()\n",
    "followers = followers()\n",
    "follows = follows()\n",
    "media = media()\n",
    "likes = likes()\n",
    "comments = comments()\n",
    "age_classificator = age_classification()"
   ]
  },
  {
   "cell_type": "code",
   "execution_count": 13,
   "metadata": {
    "collapsed": false
   },
   "outputs": [
    {
     "name": "stdout",
     "output_type": "stream",
     "text": [
      "             precision    recall  f1-score   support\n",
      "\n",
      "        1.0       1.00      1.00      1.00      1105\n",
      "        2.0       1.00      1.00      1.00       680\n",
      "\n",
      "avg / total       1.00      1.00      1.00      1785\n",
      "\n",
      "[[1105    0]\n",
      " [   0  680]]\n"
     ]
    }
   ],
   "source": [
    "from sklearn import metrics\n",
    "from sklearn.tree import DecisionTreeClassifier\n",
    "\n",
    "model = DecisionTreeClassifier()\n",
    "\n",
    "dataset = pd.DataFrame(zip(first_name, last_name, age, age_classificator, sex, followers, follows, media, likes, comments), \n",
    "                       columns = [\"First name\", \"Last Name\", \"Age\", \"Age class\", \"Sex\", \"Followers\", \"Follows\", \"Medias\", \n",
    "                                  \"Average likes\", \"Averege comments\"])\n",
    "\n",
    "features_dataset = pd.DataFrame(zip(followers, follows, media, \n",
    "                                    likes, comments))\n",
    "\n",
    "\n",
    "model.fit(features_dataset, dataset[\"Sex\"])\n",
    "\n",
    "#print(model)\n",
    "\n",
    "print(metrics.classification_report(dataset[\"Sex\"], model.predict(features_dataset)))\n",
    "print(metrics.confusion_matrix(dataset[\"Sex\"], model.predict(features_dataset)))"
   ]
  },
  {
   "cell_type": "code",
   "execution_count": null,
   "metadata": {
    "collapsed": true
   },
   "outputs": [],
   "source": []
  }
 ],
 "metadata": {
  "kernelspec": {
   "display_name": "Python 2",
   "language": "python",
   "name": "python2"
  },
  "language_info": {
   "codemirror_mode": {
    "name": "ipython",
    "version": 2
   },
   "file_extension": ".py",
   "mimetype": "text/x-python",
   "name": "python",
   "nbconvert_exporter": "python",
   "pygments_lexer": "ipython2",
   "version": "2.7.10"
  }
 },
 "nbformat": 4,
 "nbformat_minor": 0
}
