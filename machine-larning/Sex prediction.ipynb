{
 "cells": [
  {
   "cell_type": "code",
   "execution_count": 36,
   "metadata": {
    "collapsed": true
   },
   "outputs": [],
   "source": [
    "from pymongo import MongoClient\n",
    "from data_f import *\n",
    "import numpy as np\n",
    "import pandas as pd\n",
    "import scipy.stats as stats\n",
    "import matplotlib.pyplot as plt\n",
    "import sklearn\n",
    "import matplotlib\n",
    "from plot_data import *\n",
    "\n",
    "\n",
    "%matplotlib inline"
   ]
  },
  {
   "cell_type": "code",
   "execution_count": 37,
   "metadata": {
    "collapsed": true
   },
   "outputs": [],
   "source": [
    "first_name = first_name()\n",
    "last_name = last_name()\n",
    "usernames = username()\n",
    "sex = sex()\n",
    "age = age()\n",
    "followers = followers()\n",
    "follows = follows()\n",
    "media = media()\n",
    "likes = likes()\n",
    "comments = comments()\n",
    "age_classificator = age_classification()"
   ]
  },
  {
   "cell_type": "code",
   "execution_count": 38,
   "metadata": {
    "collapsed": false
   },
   "outputs": [],
   "source": [
    "features_dataset = pd.DataFrame(zip(followers, follows, media, \n",
    "                                    likes, comments))\n",
    "training_size = 0.7\n",
    "\n",
    "features_train = features_dataset[:int(0.7*len(features_dataset))]\n",
    "features_test = features_dataset[int(0.7*len(features_dataset)):]\n",
    "\n",
    "labels_train = age_classificator[:int(0.7*len(features_dataset))]\n",
    "labels_test = age_classificator[int(0.7*len(features_dataset)):]\n"
   ]
  },
  {
   "cell_type": "markdown",
   "metadata": {},
   "source": [
    "# Decision Trees "
   ]
  },
  {
   "cell_type": "code",
   "execution_count": 39,
   "metadata": {
    "collapsed": false
   },
   "outputs": [
    {
     "name": "stdout",
     "output_type": "stream",
     "text": [
      "             precision    recall  f1-score   support\n",
      "\n",
      "        1.0       0.15      0.21      0.17        57\n",
      "        2.0       0.77      0.76      0.76       405\n",
      "        3.0       0.26      0.22      0.24        67\n",
      "        4.0       0.00      0.00      0.00         7\n",
      "\n",
      "avg / total       0.63      0.62      0.63       536\n",
      "\n",
      "[[ 12  41   4   0]\n",
      " [ 62 306  36   1]\n",
      " [  6  46  15   0]\n",
      " [  2   2   3   0]]\n"
     ]
    }
   ],
   "source": [
    "from sklearn import metrics\n",
    "from sklearn.tree import DecisionTreeClassifier\n",
    "\n",
    "model = DecisionTreeClassifier()\n",
    "\n",
    "model.fit(features_train, labels_train)\n",
    "\n",
    "#print(model)\n",
    "\n",
    "print(metrics.classification_report(labels_test, model.predict(features_test)))\n",
    "print(metrics.confusion_matrix(labels_test, model.predict(features_test)))\n"
   ]
  },
  {
   "cell_type": "code",
   "execution_count": null,
   "metadata": {
    "collapsed": true
   },
   "outputs": [],
   "source": []
  }
 ],
 "metadata": {
  "kernelspec": {
   "display_name": "Python 2",
   "language": "python",
   "name": "python2"
  },
  "language_info": {
   "codemirror_mode": {
    "name": "ipython",
    "version": 2
   },
   "file_extension": ".py",
   "mimetype": "text/x-python",
   "name": "python",
   "nbconvert_exporter": "python",
   "pygments_lexer": "ipython2",
   "version": "2.7.10"
  }
 },
 "nbformat": 4,
 "nbformat_minor": 0
}
